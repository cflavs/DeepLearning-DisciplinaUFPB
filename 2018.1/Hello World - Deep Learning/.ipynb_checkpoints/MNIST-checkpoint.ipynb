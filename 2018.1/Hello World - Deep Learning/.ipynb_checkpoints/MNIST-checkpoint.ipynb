{
 "cells": [
  {
   "cell_type": "code",
   "execution_count": 1,
   "metadata": {},
   "outputs": [
    {
     "name": "stderr",
     "output_type": "stream",
     "text": [
      "Using TensorFlow backend.\n"
     ]
    }
   ],
   "source": [
    "import keras\n",
    "import tensorflow as tf\n",
    "import numpy as np\n",
    "import pandas as pd \n",
    "import matplotlib.pyplot as plt\n",
    "from sklearn.model_selection import train_test_split\n",
    "from keras.datasets import mnist\n",
    "from keras.models import Sequential\n",
    "from keras.layers import Dense, Dropout, Flatten, BatchNormalization\n",
    "from keras.layers import Conv2D, MaxPooling2D"
   ]
  },
  {
   "cell_type": "markdown",
   "metadata": {},
   "source": [
    "O MNIST é uma base de imagens que contém 10 classes referentes a dígitos manuscritos. As imagens dessa base são binárias (preto e branco) e possuem dimensão 28x28, conforme Figura abaixo. Além disso, ao todo a base divide-se em 60.000 imagens de treino e 10.000 imagens de teste. O MNIST é uma base comumente utilizada para avaliar a performance de redes neurais, alcançando uma acurácia de 99.25% em arquiteturas simples de redes neurais convolucionais (CNNs). \n",
    "\n",
    "Dessa forma, esse notebook introduz como implementar CNNs no Keras utilizando o MNIST como base de imagens, tendo-se como passos principais:\n",
    "\n",
    "* Leitura e visualização da base\n",
    "* Adaptação da base para o modelo Keras \n",
    "* Criação do modelo da arquitetura no Keras \n",
    "* Treinamento\n",
    "* Teste\n",
    "\n",
    "![alt text](imgs/mninst.png \"Title\")"
   ]
  },
  {
   "cell_type": "markdown",
   "metadata": {},
   "source": [
    "### Leitura e Visualização da base\n",
    "\n",
    "\n",
    "O Keras possui a base do MNIST, para utilizá-la basta importar o dataset mnist e chamar a função load_data(). A função retornará separadamente a entrada e as classes para treinamento (x_train e y_train), assim como aa entrada e classes para o teste (x_test, y_test). Para visualizar a base, pode-se utilizar o matplotlib. É comum também, após a leitura, normalizar a base dividindo-a por 255. "
   ]
  },
  {
   "cell_type": "code",
   "execution_count": 2,
   "metadata": {},
   "outputs": [
    {
     "data": {
      "image/png": "[encoded data removed]",
      "text/plain": [
       "<Figure size 432x288 with 1 Axes>"
      ]
     },
     "metadata": {
      "needs_background": "light"
     },
     "output_type": "display_data"
    }
   ],
   "source": [
    "### leitura do dataset\n",
    "(x_train, y_train), (x_test, y_test) = mnist.load_data()\n",
    "### Visualizar instâncias\n",
    "plt.imshow(x_train[5], cmap=plt.get_cmap('gray'))\n",
    "plt.title(y_train[5])\n",
    "### Normalizar\n",
    "x_train = x_train/255\n",
    "x_test =  x_test/255"
   ]
  },
  {
   "cell_type": "markdown",
   "metadata": {},
   "source": [
    "### Adaptação da base para o modelo Keras \n",
    "\n",
    "O Keras utiliza as imagens de entrada no formato [quantidade de instancias da base, width, height, quantidade de canais] para o tensorflow, ao utilizar Theano no keras, as entradas devem ter o formato [quantidade de instancias da base, quantidade de canais, width, height]. Dessa forma, antes de criar o modelo, utiliza-se a função reshape para cada base de entrada individualmente (x_train e x_test). Nesse exemplo, a quantidade de instancias é igual a 60.000 para treino e 10.000 para teste, tais valores podem ser obtidos utilizando .shape[0].\n",
    "\n",
    "Além disso, os rótulos y_train e y_test devem ser convertidos para matrizes, uma vez que são tidos apenas como vetor inicialmente. Isso pode ser feito utilizando conversão one-hot encoding ou to_categorical.\n"
   ]
  },
  {
   "cell_type": "code",
   "execution_count": 3,
   "metadata": {},
   "outputs": [
    {
     "name": "stdout",
     "output_type": "stream",
     "text": [
      "x_train shape: (60000, 28, 28)\n",
      "60000 Quantidade de instancias para treino\n",
      "10000 Quantidade de instancias para teste\n"
     ]
    }
   ],
   "source": [
    "print('x_train shape:', x_train.shape)\n",
    "print(x_train.shape[0], 'Quantidade de instancias para treino')\n",
    "print(x_test.shape[0], 'Quantidade de instancias para teste')\n",
    "\n",
    "x_train = x_train.reshape(x_train.shape[0], 28, 28, 1)\n",
    "x_test = x_test.reshape(x_test.shape[0], 28, 28, 1)\n",
    "\n",
    "y_train = keras.utils.to_categorical(y_train, 10)\n",
    "y_test = keras.utils.to_categorical(y_test, 10)\n",
    "\n"
   ]
  },
  {
   "cell_type": "code",
   "execution_count": 4,
   "metadata": {},
   "outputs": [],
   "source": [
    "x_train      = np.pad(x_train, ((0,0),(2,2),(2,2),(0,0)), 'constant')\n",
    "x_test       = np.pad(x_test, ((0,0),(2,2),(2,2),(0,0)), 'constant')"
   ]
  },
  {
   "cell_type": "markdown",
   "metadata": {},
   "source": [
    "### Criação do modelo CNN\n",
    "\n",
    "A arquitetura CNN é inicializada no Keras utilizando o método Sequential(), após isso, cada camada da rede será adicionada sequencialmente utilizando add. Dessa forma, para implementar a LeNet no MNIST, adiciona-se duas camadas convolucionais com quantidade de filtros 6 e 16 respectivamente, cada uma seguida por uma camada pooling. Por fim, a rede possui 3 camadas Dense (completamente conectadas) com 120, 84 e 10 neuronios cada.\n",
    "\n",
    "![alt text](imgs/LeNet-5-structure.png \"Title\")\n",
    "\n",
    "Além disso, em CNNs mais recentes comumente utilizam MaxPooling, função de ativação ReLU e técnicas de regularização como Dropout e normalização do Batch."
   ]
  },
  {
   "cell_type": "code",
   "execution_count": 5,
   "metadata": {},
   "outputs": [
    {
     "name": "stdout",
     "output_type": "stream",
     "text": [
      "WARNING:tensorflow:From /usr/local/lib/python3.6/site-packages/keras/backend/tensorflow_backend.py:1062: calling reduce_prod (from tensorflow.python.ops.math_ops) with keep_dims is deprecated and will be removed in a future version.\n",
      "Instructions for updating:\n",
      "keep_dims is deprecated, use keepdims instead\n"
     ]
    }
   ],
   "source": [
    "model = Sequential()\n",
    "model.add(Conv2D(6, kernel_size=(5, 5),\n",
    "                 activation='relu',\n",
    "                 input_shape=(32,32,1)))\n",
    "model.add(MaxPooling2D(pool_size=(2, 2)))\n",
    "model.add(Conv2D(16, (5, 5), activation='relu'))\n",
    "model.add(MaxPooling2D(pool_size=(2, 2)))\n",
    "\n",
    "model.add(Conv2D(120, (5, 5), activation='relu'))\n",
    "model.add(Flatten())\n",
    "model.add(Dense(84, activation='relu'))\n",
    "model.add(Dense(10, activation='softmax'))"
   ]
  },
  {
   "cell_type": "markdown",
   "metadata": {},
   "source": [
    "### Treinamento\n",
    "\n",
    "Uma vez definida a arquitetura da rede, utiliza-se os métodos do Keras compile e fit para realizar o treinamento. O compile definirá métricas (e.g. acurácia) e otimizar que será utilizado. A escolha do otimizador varia de acordo com o problema e pode levar a diferentes resultados, conforme Figura abaixo.\n",
    "\n",
    "![alt text](imgs/otimizadores.gif \"Title\")\n",
    "\n",
    "Por fim, na função fit define-se o tamanho do batch, quantidade de epochs e os dados de validação da rede. O Keras permite obter a base de validação a partir da base de treino utilizando-se o parametro validation_split.\n"
   ]
  },
  {
   "cell_type": "code",
   "execution_count": 6,
   "metadata": {},
   "outputs": [
    {
     "name": "stdout",
     "output_type": "stream",
     "text": [
      "WARNING:tensorflow:From /usr/local/lib/python3.6/site-packages/keras/backend/tensorflow_backend.py:2550: calling reduce_sum (from tensorflow.python.ops.math_ops) with keep_dims is deprecated and will be removed in a future version.\n",
      "Instructions for updating:\n",
      "keep_dims is deprecated, use keepdims instead\n",
      "WARNING:tensorflow:From /usr/local/lib/python3.6/site-packages/keras/backend/tensorflow_backend.py:1123: calling reduce_mean (from tensorflow.python.ops.math_ops) with keep_dims is deprecated and will be removed in a future version.\n",
      "Instructions for updating:\n",
      "keep_dims is deprecated, use keepdims instead\n",
      "Train on 48000 samples, validate on 12000 samples\n",
      "Epoch 1/10\n",
      "48000/48000 [==============================] - 37s - loss: 0.3774 - acc: 0.8924 - val_loss: 0.1142 - val_acc: 0.9671\n",
      "Epoch 2/10\n",
      "48000/48000 [==============================] - 37s - loss: 0.0922 - acc: 0.9717 - val_loss: 0.0761 - val_acc: 0.9772\n",
      "Epoch 3/10\n",
      "48000/48000 [==============================] - 37s - loss: 0.0641 - acc: 0.9799 - val_loss: 0.0618 - val_acc: 0.9803\n",
      "Epoch 4/10\n",
      "48000/48000 [==============================] - 37s - loss: 0.0499 - acc: 0.9853 - val_loss: 0.0588 - val_acc: 0.9816\n",
      "Epoch 5/10\n",
      "48000/48000 [==============================] - 37s - loss: 0.0423 - acc: 0.9868 - val_loss: 0.0515 - val_acc: 0.9838\n",
      "Epoch 6/10\n",
      "48000/48000 [==============================] - 37s - loss: 0.0366 - acc: 0.9883 - val_loss: 0.0490 - val_acc: 0.9851\n",
      "Epoch 7/10\n",
      "48000/48000 [==============================] - 37s - loss: 0.0306 - acc: 0.9901 - val_loss: 0.0466 - val_acc: 0.9866\n",
      "Epoch 8/10\n",
      "48000/48000 [==============================] - 37s - loss: 0.0265 - acc: 0.9917 - val_loss: 0.0532 - val_acc: 0.9852\n",
      "Epoch 9/10\n",
      "48000/48000 [==============================] - 36s - loss: 0.0250 - acc: 0.9920 - val_loss: 0.0515 - val_acc: 0.9851\n",
      "Epoch 10/10\n",
      "48000/48000 [==============================] - 40s - loss: 0.0187 - acc: 0.9941 - val_loss: 0.0521 - val_acc: 0.9858\n"
     ]
    },
    {
     "data": {
      "text/plain": [
       "<keras.callbacks.History at 0x13d114c18>"
      ]
     },
     "execution_count": 6,
     "metadata": {},
     "output_type": "execute_result"
    }
   ],
   "source": [
    "model.compile(loss=keras.losses.categorical_crossentropy,\n",
    "              optimizer='adam',\n",
    "              metrics=['accuracy'])\n",
    "\n",
    "model.fit(x_train, y_train,\n",
    "          batch_size=128,\n",
    "          epochs=10,\n",
    "          verbose=1,\n",
    "          validation_split=0.2)"
   ]
  },
  {
   "cell_type": "markdown",
   "metadata": {},
   "source": [
    "### Teste"
   ]
  },
  {
   "cell_type": "code",
   "execution_count": 7,
   "metadata": {},
   "outputs": [
    {
     "name": "stdout",
     "output_type": "stream",
     "text": [
      "Test loss: 0.03325015768757439\n",
      "Test accuracy: 0.9891\n"
     ]
    }
   ],
   "source": [
    "score = model.evaluate(x_test, y_test, verbose=0)\n",
    "print('Test loss:', score[0])\n",
    "print('Test accuracy:', score[1])"
   ]
  },
  {
   "cell_type": "code",
   "execution_count": null,
   "metadata": {},
   "outputs": [],
   "source": []
  }
 ],
 "metadata": {
  "kernelspec": {
   "display_name": "Python 3",
   "language": "python",
   "name": "python3"
  },
  "language_info": {
   "codemirror_mode": {
    "name": "ipython",
    "version": 3
   },
   "file_extension": ".py",
   "mimetype": "text/x-python",
   "name": "python",
   "nbconvert_exporter": "python",
   "pygments_lexer": "ipython3",
   "version": "3.6.5"
  }
 },
 "nbformat": 4,
 "nbformat_minor": 2
}
